{
  "nbformat": 4,
  "nbformat_minor": 0,
  "metadata": {
    "colab": {
      "name": "PyTorch_Udemy_wine_data.ipynb",
      "version": "0.3.2",
      "provenance": [],
      "collapsed_sections": []
    },
    "kernelspec": {
      "name": "python3",
      "display_name": "Python 3"
    },
    "accelerator": "GPU"
  },
  "cells": [
    {
      "metadata": {
        "id": "XEDjByrDNTMg",
        "colab_type": "text"
      },
      "cell_type": "markdown",
      "source": [
        "### import"
      ]
    },
    {
      "metadata": {
        "id": "lrguMMKqGNoT",
        "colab_type": "code",
        "colab": {}
      },
      "cell_type": "code",
      "source": [
        "# !pip install torch"
      ],
      "execution_count": 0,
      "outputs": []
    },
    {
      "metadata": {
        "id": "nveOVG368tdg",
        "colab_type": "code",
        "colab": {}
      },
      "cell_type": "code",
      "source": [
        "from matplotlib import  pyplot as plt\n",
        "import numpy as np\n",
        "\n",
        "import pandas as pd\n",
        "from sklearn.model_selection import train_test_split\n",
        "from sklearn import linear_model, datasets\n",
        "\n",
        "import torch\n",
        "import torch.nn as nn\n",
        "import torch.nn.functional as F\n",
        "from torch.autograd import Variable\n",
        "import torch.optim as optim\n",
        "\n",
        "# from torchvision import datasets, transforms\n",
        "import torchvision"
      ],
      "execution_count": 0,
      "outputs": []
    },
    {
      "metadata": {
        "id": "LvRMG6baMLZX",
        "colab_type": "text"
      },
      "cell_type": "markdown",
      "source": [
        "# ワインデータ"
      ]
    },
    {
      "metadata": {
        "id": "BTb6g-vG3sAO",
        "colab_type": "code",
        "colab": {}
      },
      "cell_type": "code",
      "source": [
        "load_data = datasets.load_wine()\n",
        "# load_data = datasets.load_iris()\n",
        "\n",
        "features = pd.DataFrame(data=load_data.data, columns=load_data.feature_names)\n",
        "targets = pd.DataFrame(data=load_data.target, columns=['class'])"
      ],
      "execution_count": 0,
      "outputs": []
    },
    {
      "metadata": {
        "id": "fDU9BSuZ33yH",
        "colab_type": "code",
        "colab": {}
      },
      "cell_type": "code",
      "source": [
        "features.head()"
      ],
      "execution_count": 0,
      "outputs": []
    },
    {
      "metadata": {
        "id": "Y4NKHiwkYQoP",
        "colab_type": "code",
        "colab": {}
      },
      "cell_type": "code",
      "source": [
        "targets.head()"
      ],
      "execution_count": 0,
      "outputs": []
    },
    {
      "metadata": {
        "id": "UeDfMj2Mj1-C",
        "colab_type": "code",
        "colab": {}
      },
      "cell_type": "code",
      "source": [
        "len(features)"
      ],
      "execution_count": 0,
      "outputs": []
    },
    {
      "metadata": {
        "id": "Pp0Q-ov8MYHg",
        "colab_type": "text"
      },
      "cell_type": "markdown",
      "source": [
        "# スケーリング"
      ]
    },
    {
      "metadata": {
        "id": "60_zODnBXs8r",
        "colab_type": "code",
        "colab": {}
      },
      "cell_type": "code",
      "source": [
        "if True:\n",
        "  scaled_features = {}\n",
        "  for each in features.columns:\n",
        "      mean, std = features[each].mean(), features[each].std()\n",
        "      scaled_features[each] = [mean, std]\n",
        "      features.loc[:, each] = (features[each] - mean)/std\n",
        "    \n",
        "features.head()"
      ],
      "execution_count": 0,
      "outputs": []
    },
    {
      "metadata": {
        "id": "ftQd8DSrAVfe",
        "colab_type": "code",
        "colab": {}
      },
      "cell_type": "code",
      "source": [
        "# Dummy Vriables (PyTorch では不要　CrossEntropyLoss 関数内で処理される)\n",
        "# targets = pd.get_dummies(targets['class'], prefix=None, drop_first=False)"
      ],
      "execution_count": 0,
      "outputs": []
    },
    {
      "metadata": {
        "id": "cvw3kM30S0Wz",
        "colab_type": "text"
      },
      "cell_type": "markdown",
      "source": [
        "# 訓練データ"
      ]
    },
    {
      "metadata": {
        "id": "I68J_dsY_kK0",
        "colab_type": "code",
        "colab": {}
      },
      "cell_type": "code",
      "source": [
        "train_features, test_features, train_targets, test_targets = train_test_split(features, targets, test_size=0.1)\n",
        "\n",
        "train_features_tensor = torch.tensor(train_features.values, dtype=torch.float32)\n",
        "train_targets_tensor = torch.tensor(train_targets.values.reshape(-1), dtype=torch.long)\n",
        "train_dataset = torch.utils.data.TensorDataset(train_features_tensor,  train_targets_tensor)\n",
        "\n",
        "test_features_tensor = torch.tensor(test_features.values, dtype=torch.float32)\n",
        "test_targets_tensor = torch.tensor(test_targets.values.reshape(-1), dtype=torch.long)\n",
        "test_dataset = torch.utils.data.TensorDataset(test_features_tensor,  test_targets_tensor)"
      ],
      "execution_count": 0,
      "outputs": []
    },
    {
      "metadata": {
        "id": "phi_Xt_sFlM7",
        "colab_type": "code",
        "colab": {}
      },
      "cell_type": "code",
      "source": [
        "train_loader = torch.utils.data.DataLoader(train_dataset,\n",
        "                                            batch_size=16,\n",
        "                                            shuffle=True,\n",
        "                                            num_workers=2)\n",
        "\n",
        "test_loader = torch.utils.data.DataLoader(test_dataset, \n",
        "                                            batch_size=16,\n",
        "                                            shuffle=False, \n",
        "                                            num_workers=2)"
      ],
      "execution_count": 0,
      "outputs": []
    },
    {
      "metadata": {
        "id": "Yu8K2OPvSpBu",
        "colab_type": "text"
      },
      "cell_type": "markdown",
      "source": [
        "# 学習モデル "
      ]
    },
    {
      "metadata": {
        "id": "zglpSDgu83jl",
        "colab_type": "code",
        "colab": {}
      },
      "cell_type": "code",
      "source": [
        "class Net(torch.nn.Module):\n",
        "   def __init__(self):\n",
        "        super(Net, self).__init__()\n",
        "        self.fc1 = nn.Linear(13, 60)\n",
        "        self.fc2 = nn.Linear(60, 3)\n",
        "        self.softmax = nn.Softmax(dim=1)\n",
        "\n",
        "   def forward(self, X):\n",
        "        X = F.relu(self.fc1(X))\n",
        "        X = self.fc2(X)\n",
        "#         X = self.softmax(X)\n",
        "        X = F.log_softmax(X)\n",
        "        return X"
      ],
      "execution_count": 0,
      "outputs": []
    },
    {
      "metadata": {
        "id": "y6pwhanT_iRe",
        "colab_type": "code",
        "colab": {}
      },
      "cell_type": "code",
      "source": [
        "net = Net()\n",
        "# net = net.cuda()\n",
        "\n",
        "criterion = nn.CrossEntropyLoss()\n",
        "optimizer = optim.SGD(net.parameters(), lr=0.1, momentum=0.88, nesterov=True)\n",
        "# optimizer = optim.Adam(net.parameters(), lr=0.001)"
      ],
      "execution_count": 0,
      "outputs": []
    },
    {
      "metadata": {
        "id": "GV9YL1xwSegz",
        "colab_type": "text"
      },
      "cell_type": "markdown",
      "source": [
        "# 学習"
      ]
    },
    {
      "metadata": {
        "id": "pnml8fjEAPiG",
        "colab_type": "code",
        "colab": {}
      },
      "cell_type": "code",
      "source": [
        "losses = {'train':[], 'validation':[]}\n",
        "\n",
        "for epoch in range(5):  # 精度が悪いときは、カッコの中の数をあげてみましょう。\n",
        "\n",
        "   running_loss = 0.0\n",
        "   for i, data in enumerate(train_loader, 0):\n",
        "       inputs, labels = data\n",
        "      \n",
        "#        inputs, labels = inputs.cuda(), labels.cuda()\n",
        "#        inputs, labels =  Variable(inputs), Variable(labels)\n",
        "\n",
        "       optimizer.zero_grad()\n",
        "\n",
        "       outputs = net(inputs)\n",
        "\n",
        "       loss = criterion(outputs, labels)\n",
        "\n",
        "       loss.backward()\n",
        "       optimizer.step()\n",
        "\n",
        "       # print statistics\n",
        "       running_loss += loss.item()\n",
        "       losses['train'].append(loss)\n",
        "      \n",
        "#        running_loss += loss.data[0]\n",
        "       if i % 1000 == 0:\n",
        "           print('epoch [%d] loss: %.5f' %\n",
        "                 (epoch + 1, running_loss))\n",
        "#            print(outputs , end=\": \")\n",
        "#            print(labels)\n",
        "\n",
        "           running_loss = 0.0"
      ],
      "execution_count": 0,
      "outputs": []
    },
    {
      "metadata": {
        "id": "MVJop3g4FNfv",
        "colab_type": "text"
      },
      "cell_type": "markdown",
      "source": [
        "# 学習結果"
      ]
    },
    {
      "metadata": {
        "id": "DfbzZymyWrGt",
        "colab_type": "code",
        "colab": {}
      },
      "cell_type": "code",
      "source": [
        "plt.plot(losses['train'], label='Training loss')\n",
        "# plt.plot(losses['validation'], label='Validation loss')\n",
        "plt.legend()\n",
        "_ = plt.ylim()"
      ],
      "execution_count": 0,
      "outputs": []
    },
    {
      "metadata": {
        "id": "if5HK3weDA6N",
        "colab_type": "code",
        "colab": {}
      },
      "cell_type": "code",
      "source": [
        "for i, data in enumerate(test_loader, 0):\n",
        "   inputs, labels = data\n",
        "   inputs, labels =  Variable(inputs), Variable(labels)\n",
        "\n",
        "# clear the gradient\n",
        "#    optimizer.zero_grad()\n",
        "   outputs = net(inputs)\n",
        "   for j, y in enumerate(outputs , 0):\n",
        "       pred = y.argmax().tolist()\n",
        "       label = labels[j].tolist()\n",
        "       print(pred , end=\" -> \" )\n",
        "       print(label , end = \":  \")\n",
        "       if pred  == label:\n",
        "         print(\"Ok\")\n",
        "       else:\n",
        "         print(\"NG\")\n",
        "   \n"
      ],
      "execution_count": 0,
      "outputs": []
    },
    {
      "metadata": {
        "id": "bEY1bC3FSBAw",
        "colab_type": "code",
        "colab": {}
      },
      "cell_type": "code",
      "source": [
        ""
      ],
      "execution_count": 0,
      "outputs": []
    }
  ]
}